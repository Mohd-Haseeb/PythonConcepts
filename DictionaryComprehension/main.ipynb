{
 "cells": [
  {
   "cell_type": "code",
   "execution_count": 1,
   "metadata": {},
   "outputs": [],
   "source": [
    "courses = ['Data Science', 'Data Analytics', 'DevOps', 'Blockchain Development', 'Web Development', 'Database']\n",
    "instructors = ['Sunny savita', 'Sudhanshu', 'Hitesh', 'Naveen', 'Anurag', 'Ankit']"
   ]
  },
  {
   "cell_type": "code",
   "execution_count": 2,
   "metadata": {},
   "outputs": [],
   "source": [
    "# Declare a Dictionary\n",
    "myDict = {}"
   ]
  },
  {
   "cell_type": "markdown",
   "metadata": {},
   "source": [
    "- Inserting values in myDict using for loop & ZIP"
   ]
  },
  {
   "cell_type": "code",
   "execution_count": 6,
   "metadata": {},
   "outputs": [
    {
     "name": "stdout",
     "output_type": "stream",
     "text": [
      "('Data Science', 'Sunny savita')\n",
      "('Data Analytics', 'Sudhanshu')\n",
      "('DevOps', 'Hitesh')\n",
      "('Blockchain Development', 'Naveen')\n",
      "('Web Development', 'Anurag')\n",
      "('Database', 'Ankit')\n"
     ]
    }
   ],
   "source": [
    "for i in zip(courses, instructors):\n",
    "    print(i)"
   ]
  },
  {
   "cell_type": "code",
   "execution_count": 3,
   "metadata": {},
   "outputs": [
    {
     "name": "stdout",
     "output_type": "stream",
     "text": [
      "{'Data Science': 'Sunny savita', 'Data Analytics': 'Sudhanshu', 'DevOps': 'Hitesh', 'Blockchain Development': 'Naveen', 'Web Development': 'Anurag', 'Database': 'Ankit'}\n"
     ]
    }
   ],
   "source": [
    "for key, value in zip(courses, instructors):\n",
    "    myDict[key] = value\n",
    "\n",
    "print(myDict)"
   ]
  },
  {
   "cell_type": "code",
   "execution_count": 10,
   "metadata": {},
   "outputs": [
    {
     "name": "stdout",
     "output_type": "stream",
     "text": [
      "{'Data Science': 'Sunny savita', 'Data Analytics': 'Sudhanshu', 'DevOps': 'Hitesh', 'Blockchain Development': 'Naveen', 'Web Development': 'Anurag', 'Database': 'Ankit'}\n"
     ]
    }
   ],
   "source": [
    "# Alternative approch for creating new dictionary is\n",
    "myDictAlternate = dict()\n",
    "\n",
    "for i in range(len(courses)):\n",
    "    myDictAlternate[courses[i]] = instructors[i]\n",
    "\n",
    "print(myDictAlternate)\n"
   ]
  },
  {
   "cell_type": "markdown",
   "metadata": {},
   "source": [
    "- Doing the same using __DICTIONARY COMPREHENSION__"
   ]
  },
  {
   "cell_type": "code",
   "execution_count": 11,
   "metadata": {},
   "outputs": [
    {
     "name": "stdout",
     "output_type": "stream",
     "text": [
      "{'Data Science': 'Sunny savita', 'Data Analytics': 'Sudhanshu', 'DevOps': 'Hitesh', 'Blockchain Development': 'Naveen', 'Web Development': 'Anurag', 'Database': 'Ankit'}\n"
     ]
    }
   ],
   "source": [
    "myDict2 = {k:v for k,v in zip(courses, instructors) }\n",
    "\n",
    "print(myDict2)"
   ]
  },
  {
   "cell_type": "code",
   "execution_count": 13,
   "metadata": {},
   "outputs": [
    {
     "name": "stdout",
     "output_type": "stream",
     "text": [
      "{'Data Science': 'Sunny savita', 'Data Analytics': 'Sudhanshu', 'DevOps': 'Hitesh', 'Blockchain Development': 'Naveen', 'Web Development': 'Anurag', 'Database': 'Ankit'}\n"
     ]
    }
   ],
   "source": [
    "# Dictonary comprehension using __RANGE__\n",
    "myDict3 = {courses[i]:instructors[i] for i in range(len(courses))}\n",
    "\n",
    "print(myDict3)"
   ]
  },
  {
   "cell_type": "markdown",
   "metadata": {},
   "source": [
    "- Now, we can do the same for __TUPLES__ and __PANDAS DATAFRAME__"
   ]
  },
  {
   "cell_type": "code",
   "execution_count": 14,
   "metadata": {},
   "outputs": [
    {
     "data": {
      "text/plain": [
       "{'Hyderabad': 'HYD', 'New York': 'NY', 'London': 'LDN'}"
      ]
     },
     "execution_count": 14,
     "metadata": {},
     "output_type": "execute_result"
    }
   ],
   "source": [
    "import pandas as pd\n",
    "\n",
    "cities = pd.DataFrame(['Hyderabad', 'New York', 'London'])\n",
    "codes = pd.DataFrame(['HYD', 'NY', 'LDN'])\n",
    "\n",
    "{key : value for key, value in zip(cities[0], codes[0])}\n"
   ]
  },
  {
   "cell_type": "markdown",
   "metadata": {},
   "source": [
    "- Dictionary Comphrehension using Dictionaries"
   ]
  },
  {
   "cell_type": "code",
   "execution_count": 16,
   "metadata": {},
   "outputs": [
    {
     "name": "stdout",
     "output_type": "stream",
     "text": [
      "{'haseeb@gmail.com': 'IT', 'shabrez@gmail.com': 'sales', 'john@gmail.com': 'marketing'}\n"
     ]
    }
   ],
   "source": [
    "user_details = {\n",
    "    \"haseeb\" : \"IT\",\n",
    "    \"shabrez\" : \"sales\",\n",
    "    \"john\" : \"marketing\"\n",
    "}\n",
    "\n",
    "user_ids = {k+\"@gmail.com\" : v for k,v in user_details.items()}\n",
    "\n",
    "print(user_ids)"
   ]
  },
  {
   "cell_type": "markdown",
   "metadata": {},
   "source": [
    "- Adding Condtions in the Comprehension"
   ]
  },
  {
   "cell_type": "code",
   "execution_count": 20,
   "metadata": {},
   "outputs": [
    {
     "name": "stdout",
     "output_type": "stream",
     "text": [
      "{'sales': 10, 'marketing': 15}\n"
     ]
    }
   ],
   "source": [
    "from pygments import highlight\n",
    "\n",
    "\n",
    "team_capacity = {\n",
    "    'sales' : 10,\n",
    "    'marketing' : 15,\n",
    "    'Development' : 3\n",
    "}\n",
    "\n",
    "# get dictionary of only those teams, who has capacity of equal to or more than 10  \n",
    "high_capacity = {k:v for k,v in team_capacity.items() if v >= 10}\n",
    "\n",
    "print(high_capacity)"
   ]
  },
  {
   "cell_type": "markdown",
   "metadata": {},
   "source": [
    "- Adding conditions on the iterables"
   ]
  },
  {
   "cell_type": "code",
   "execution_count": 23,
   "metadata": {},
   "outputs": [
    {
     "data": {
      "text/plain": [
       "{'sales': 10, 'marketing': 15, 'Development': 8}"
      ]
     },
     "execution_count": 23,
     "metadata": {},
     "output_type": "execute_result"
    }
   ],
   "source": [
    "# Say, we want to add 5 members to the team, who has less than 10 members\n",
    "\n",
    "{k : v if v>=10 else v+5 for k,v in team_capacity.items()}"
   ]
  },
  {
   "cell_type": "code",
   "execution_count": 24,
   "metadata": {},
   "outputs": [
    {
     "data": {
      "text/plain": [
       "{'sales': 10, 'social media marketing': 15, 'Development': 3}"
      ]
     },
     "execution_count": 24,
     "metadata": {},
     "output_type": "execute_result"
    }
   ],
   "source": [
    "# IF we have a marketing team, change them to social media marketing\n",
    "{ k if k!='marketing' else 'social media marketing' : v for k,v in team_capacity.items()}"
   ]
  },
  {
   "cell_type": "code",
   "execution_count": 26,
   "metadata": {},
   "outputs": [
    {
     "name": "stdout",
     "output_type": "stream",
     "text": [
      "{'sales': 10, 'social media marketing': 15, 'Development': 8}\n"
     ]
    }
   ],
   "source": [
    "# Adding conditons on both the iterables (k,v)\n",
    "\n",
    "result =  {\n",
    "    (k if k!='marketing' else 'social media marketing') :\n",
    "    (v if v>=10 else v+5)\n",
    "    for k,v in team_capacity.items()\n",
    "}\n",
    "\n",
    "print(result)"
   ]
  },
  {
   "cell_type": "code",
   "execution_count": 29,
   "metadata": {},
   "outputs": [
    {
     "name": "stdout",
     "output_type": "stream",
     "text": [
      "0 Data Science\n",
      "1 Data Analytics\n",
      "2 DevOps\n",
      "3 Blockchain Development\n",
      "4 Web Development\n",
      "5 Database\n"
     ]
    }
   ],
   "source": [
    "for a,b in enumerate(courses):\n",
    "    print(a,b)"
   ]
  },
  {
   "cell_type": "markdown",
   "metadata": {},
   "source": [
    "- __LIST__ of __DICTIONARIES__\n",
    "- Creating User Data using list and dictinary comprehension."
   ]
  },
  {
   "cell_type": "code",
   "execution_count": 57,
   "metadata": {},
   "outputs": [
    {
     "name": "stdout",
     "output_type": "stream",
     "text": [
      "[{'user_id': 0, 'user_name': 'Haseeb', 'password': '~L|u>*'}, {'user_id': 1, 'user_name': 'Shabrez', 'password': '~b*wG '}, {'user_id': 2, 'user_name': 'John', 'password': 'm/bxmZ'}, {'user_id': 3, 'user_name': 'Luffy', 'password': '>~;{f]'}]\n"
     ]
    }
   ],
   "source": [
    "import random\n",
    "import string\n",
    "keys = ['user_id', 'user_name', 'password']\n",
    "users =  ['Haseeb', 'Shabrez', 'John', 'Luffy']\n",
    "\n",
    "user_data = [{k : (i if k == 'user_id' else users[i] if k=='user_name' else ''.join(random.choices(string.printable, k=6)) ) for k in keys} for i in range(len(users))]\n",
    "\n",
    "print(user_data)"
   ]
  },
  {
   "cell_type": "code",
   "execution_count": 54,
   "metadata": {},
   "outputs": [
    {
     "data": {
      "text/plain": [
       "'`k-nfD'"
      ]
     },
     "execution_count": 54,
     "metadata": {},
     "output_type": "execute_result"
    }
   ],
   "source": [
    "# print(string.printable)\n",
    "''.join(random.choices(string.printable, k=6))"
   ]
  },
  {
   "cell_type": "markdown",
   "metadata": {},
   "source": [
    "- Disadvantages:\n",
    "    - Complex\n",
    "    - Not easy to read and understand"
   ]
  },
  {
   "cell_type": "code",
   "execution_count": null,
   "metadata": {},
   "outputs": [],
   "source": []
  }
 ],
 "metadata": {
  "kernelspec": {
   "display_name": "Python 3.9.7 ('base')",
   "language": "python",
   "name": "python3"
  },
  "language_info": {
   "codemirror_mode": {
    "name": "ipython",
    "version": 3
   },
   "file_extension": ".py",
   "mimetype": "text/x-python",
   "name": "python",
   "nbconvert_exporter": "python",
   "pygments_lexer": "ipython3",
   "version": "3.9.7"
  },
  "orig_nbformat": 4,
  "vscode": {
   "interpreter": {
    "hash": "a2a44d6bf7725472b302fb43220884295e1f7de98ffd4624c738d18ae0190b1a"
   }
  }
 },
 "nbformat": 4,
 "nbformat_minor": 2
}
