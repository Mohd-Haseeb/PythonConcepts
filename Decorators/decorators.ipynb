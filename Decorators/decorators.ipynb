{
 "cells": [
  {
   "cell_type": "markdown",
   "metadata": {},
   "source": [
    "Decorators are Higher Order Functions i.e Take other functions as arguments\n",
    "\n",
    "Decorators returns a Function"
   ]
  },
  {
   "cell_type": "code",
   "execution_count": null,
   "metadata": {},
   "outputs": [],
   "source": []
  },
  {
   "cell_type": "markdown",
   "metadata": {},
   "source": [
    "- CREATING A DECORATOR"
   ]
  },
  {
   "cell_type": "code",
   "execution_count": 12,
   "metadata": {},
   "outputs": [
    {
     "name": "stdout",
     "output_type": "stream",
     "text": [
      "something something ....\n"
     ]
    }
   ],
   "source": [
    "user = {\n",
    "    'name' : 'haseeb',\n",
    "    'access_level' : 'admin'\n",
    "}\n",
    "\n",
    "def user_has_permission(func): # decorator function\n",
    "    def secure_func(): # wrapper function\n",
    "        if user.get('access_level') == 'admin':\n",
    "            return func()\n",
    "    return secure_func\n",
    "\n",
    "\n",
    "def my_func():\n",
    "    return 'something something ....'\n",
    "\n",
    "\n",
    "returned_function = user_has_permission(my_func)\n",
    "\n",
    "print(returned_function())"
   ]
  },
  {
   "cell_type": "markdown",
   "metadata": {},
   "source": [
    "- USING @ SYNTAX"
   ]
  },
  {
   "cell_type": "code",
   "execution_count": 13,
   "metadata": {},
   "outputs": [
    {
     "name": "stdout",
     "output_type": "stream",
     "text": [
      "something something ....\n"
     ]
    }
   ],
   "source": [
    "user = {\n",
    "    'name' : 'haseeb',\n",
    "    'access_level' : 'admin'\n",
    "}\n",
    "\n",
    "def user_has_permission(func): # decorator function\n",
    "    def secure_func(): # wrapper function\n",
    "        if user.get('access_level') == 'admin':\n",
    "            return func()\n",
    "    return secure_func\n",
    "\n",
    "@user_has_permission\n",
    "def my_func():\n",
    "    return 'something something ....'\n",
    "\n",
    "\n",
    "\n",
    "print(my_func())"
   ]
  },
  {
   "cell_type": "code",
   "execution_count": 14,
   "metadata": {},
   "outputs": [
    {
     "name": "stdout",
     "output_type": "stream",
     "text": [
      "secure_func\n"
     ]
    }
   ],
   "source": [
    "print(my_func.__name__)"
   ]
  },
  {
   "cell_type": "markdown",
   "metadata": {},
   "source": [
    "- DECORATING FUNCTIONS WITH PARAMETERS"
   ]
  },
  {
   "cell_type": "code",
   "execution_count": 19,
   "metadata": {},
   "outputs": [
    {
     "name": "stdout",
     "output_type": "stream",
     "text": [
      "shabrez is admin\n"
     ]
    }
   ],
   "source": [
    "user = {\n",
    "    'name' : 'haseeb',\n",
    "    'access_level' : 'admin'\n",
    "}\n",
    "\n",
    "def user_has_permission(func): # decorator function\n",
    "    def secure_func(name): # wrapper function\n",
    "        if user.get('access_level') == 'admin':\n",
    "            return func(name)\n",
    "    return secure_func\n",
    "\n",
    "@user_has_permission\n",
    "def my_func(name):\n",
    "    return f'{name} is admin'\n",
    "\n",
    "\n",
    "\n",
    "print(my_func('shabrez'))\n",
    "\n",
    "# THE PROBLEM WIHT THIS IS, WE CANNOT USE THIS DECORATOR WITH OTHERS FUNCTIONS THAT DO NOT HAVE A PARAMETER OR SOMETHING LIKE THAT\n"
   ]
  },
  {
   "cell_type": "markdown",
   "metadata": {},
   "source": [
    "- DECORATORS WITH PARAMETERS"
   ]
  },
  {
   "cell_type": "code",
   "execution_count": 24,
   "metadata": {},
   "outputs": [
    {
     "name": "stdout",
     "output_type": "stream",
     "text": [
      "shabrez is admin\n"
     ]
    }
   ],
   "source": [
    "user = {\n",
    "    'name' : 'haseeb',\n",
    "    'access_level' : 'admin'\n",
    "}\n",
    "\n",
    "def third_level(access_level): # if we want to have parameters for the decorator\n",
    "    def user_has_permission(func): # decorator function\n",
    "        def secure_func(name): # wrapper function\n",
    "            if user.get('access_level') == access_level:\n",
    "                return func(name)\n",
    "        return secure_func\n",
    "    return user_has_permission\n",
    "\n",
    "\n",
    "@third_level('admin')\n",
    "def my_func(name):\n",
    "    return f'{name} is admin'\n",
    "\n",
    "# this is equivalent to\n",
    "# user_has_permission = third_level('admin')\n",
    "# my_func = user_has_permission(my_func)\n",
    "\n",
    "print(my_func('shabrez'))\n",
    "\n",
    "# INNER MOST FUNCTION MUST CALL THE ORIGINAL FUNCTION\n"
   ]
  },
  {
   "cell_type": "markdown",
   "metadata": {},
   "source": [
    "- GENERIC DECORATOR FOR ANY FUNCTION AND ANY NUMBER OF PARAMETERS"
   ]
  },
  {
   "cell_type": "code",
   "execution_count": 26,
   "metadata": {},
   "outputs": [
    {
     "name": "stdout",
     "output_type": "stream",
     "text": [
      "shabrez is admin\n",
      "Another function with no parameters\n"
     ]
    }
   ],
   "source": [
    "user = {\n",
    "    'name' : 'haseeb',\n",
    "    'access_level' : 'admin'\n",
    "}\n",
    "\n",
    "def user_has_permission(func): # decorator function\n",
    "    def secure_func(*args, **kwargs): # wrapper function\n",
    "        if user.get('access_level') == 'admin':\n",
    "            return func(*args, **kwargs)\n",
    "    return secure_func\n",
    "\n",
    "@user_has_permission\n",
    "def my_func(name):\n",
    "    return f'{name} is admin'\n",
    "\n",
    "@user_has_permission\n",
    "def another_func():\n",
    "    return 'Another function with no parameters'\n",
    "\n",
    "\n",
    "\n",
    "print(my_func('shabrez'))\n",
    "\n",
    "print(another_func())"
   ]
  },
  {
   "cell_type": "markdown",
   "metadata": {},
   "source": [
    "- __MORE EXAMPLES__"
   ]
  },
  {
   "cell_type": "code",
   "execution_count": 32,
   "metadata": {},
   "outputs": [
    {
     "name": "stdout",
     "output_type": "stream",
     "text": [
      "Calculating Speeed....\n",
      "Starting Time : 1666086895.158855\n",
      "Ending Time : 1666086923.772631\n",
      "Difference for slow_function : 28.613775968551636\n",
      "Calculating Speeed....\n",
      "Starting Time : 1666086923.772809\n",
      "Ending Time : 1666086924.058539\n",
      "Difference for fast_function : 0.28572988510131836\n"
     ]
    }
   ],
   "source": [
    "import time\n",
    "\n",
    "curr_time = time.time\n",
    "# print(curr_time())\n",
    "\n",
    "def speed_calc_decorator(function):\n",
    "    def wrapper_func():\n",
    "        print('Calculating Speeed....')\n",
    "        initial_time = time.time()\n",
    "        print(f\"Starting Time : {initial_time}\")\n",
    "        function()\n",
    "        final_time = time.time()\n",
    "        print(f\"Ending Time : {final_time}\")\n",
    "        diff_time = final_time - initial_time\n",
    "        print(f\"Difference for {function.__name__} : {diff_time}\")\n",
    "    \n",
    "    return wrapper_func\n",
    "\n",
    "@speed_calc_decorator\n",
    "def fast_function():\n",
    "    for i in range(10000000):\n",
    "        i * i\n",
    "\n",
    "@speed_calc_decorator\n",
    "def slow_function():\n",
    "    for i in range(1000000000):\n",
    "        i * i\n",
    "\n",
    "\n",
    "slow_function()\n",
    "\n",
    "fast_function()\n",
    "\n",
    "\n",
    "\n",
    "\n"
   ]
  },
  {
   "cell_type": "code",
   "execution_count": null,
   "metadata": {},
   "outputs": [],
   "source": []
  }
 ],
 "metadata": {
  "kernelspec": {
   "display_name": "Python 3.10.4 64-bit",
   "language": "python",
   "name": "python3"
  },
  "language_info": {
   "codemirror_mode": {
    "name": "ipython",
    "version": 3
   },
   "file_extension": ".py",
   "mimetype": "text/x-python",
   "name": "python",
   "nbconvert_exporter": "python",
   "pygments_lexer": "ipython3",
   "version": "3.10.4"
  },
  "orig_nbformat": 4,
  "vscode": {
   "interpreter": {
    "hash": "aee8b7b246df8f9039afb4144a1f6fd8d2ca17a180786b69acc140d282b71a49"
   }
  }
 },
 "nbformat": 4,
 "nbformat_minor": 2
}
